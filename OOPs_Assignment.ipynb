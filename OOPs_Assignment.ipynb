{
  "nbformat": 4,
  "nbformat_minor": 0,
  "metadata": {
    "colab": {
      "provenance": []
    },
    "kernelspec": {
      "name": "python3",
      "display_name": "Python 3"
    },
    "language_info": {
      "name": "python"
    }
  },
  "cells": [
    {
      "cell_type": "markdown",
      "source": [
        "# Theory Questions"
      ],
      "metadata": {
        "id": "HgUL_0M5c5OM"
      }
    },
    {
      "cell_type": "code",
      "execution_count": null,
      "metadata": {
        "id": "9w7ioHcScvXv"
      },
      "outputs": [],
      "source": [
        "# Q1. =>  What is Object-Oriented Programming (OOP)?\n",
        "'''\n",
        "Object-Oriented Programming is a programming paradigm based on the concept of \"objects\",\n",
        "which can contain data in the form of fields (attributes) and code in the form of procedures (methods).\n",
        "OOP emphasizes modularity and reusability, and it includes concepts like classes, objects, inheritance, polymorphism, encapsulation, and abstraction.\n",
        "'''"
      ]
    },
    {
      "cell_type": "code",
      "source": [
        "# Q2. => 2. What is a class in OOP?\n",
        "'''\n",
        "A class is a blueprint for creating objects (specific data structures).\n",
        "It defines a set of attributes and methods that the created objects will have.\n",
        "In Python, you define a class using the class keyword.'''\n",
        "\n",
        "class Dog:\n",
        "    def __init__(self, name, age):\n",
        "        self.name = name\n",
        "        self.age = age\n",
        "\n",
        "    def bark(self):\n",
        "        print(\"Bahuuuh!\")\n"
      ],
      "metadata": {
        "id": "TubyTzP4d2D-"
      },
      "execution_count": null,
      "outputs": []
    },
    {
      "cell_type": "code",
      "source": [
        "# Q3. => What is an object in OOP?\n",
        "'''\n",
        "An object is an instance of a class. It is created using the class blueprint and can access the attributes and methods defined in the class.\n",
        "OR\n",
        "In other words In Object-Oriented Programming (OOP), an object is an instance of a class.\n",
        "It is a self-contained component that contains properties (attributes) and methods (functions) to perform operations.\n",
        "'''\n",
        "dog = Dog(\"Buddy\", 3)\n",
        "dog.bark()\n"
      ],
      "metadata": {
        "colab": {
          "base_uri": "https://localhost:8080/"
        },
        "id": "7AsIhPR0eTMb",
        "outputId": "05184619-58dc-4ade-80c5-a37ea3be3285"
      },
      "execution_count": null,
      "outputs": [
        {
          "output_type": "stream",
          "name": "stdout",
          "text": [
            "Bahuuuh!\n"
          ]
        }
      ]
    },
    {
      "cell_type": "code",
      "source": [
        "# Q4 What is the difference between abstraction and encapsulation?\n",
        "'''\n",
        "Abstraction:- Hides the complex implementation details and shows only the essential features of an object.\n",
        "It is achieved using abstract classes and interfaces.\n",
        "Abstraction focuses on hiding the complexities and showing only the necessary parts.Abstraction is achieved through abstract classes and interfaces.\n",
        "\n",
        "\n",
        "Encapsulation:- Bundles the data (attributes) and methods (functions) that operate on the data into a single unit or class,\n",
        "and restricts access to some of the object's components.\n",
        "encapsulation focuses on protecting the data and controlling access to it.\n",
        "encapsulation is achieved through access modifiers and methods.\n",
        "'''"
      ],
      "metadata": {
        "id": "mk1rERv3gYWS"
      },
      "execution_count": null,
      "outputs": []
    },
    {
      "cell_type": "code",
      "source": [
        "# Q5 What are dunder methods in Python?\n",
        "'''\n",
        "Dunder methods (short for double underscore methods) are special methods in Python that begin and end with double underscores (e.g., __init__, __str__).\n",
        "They are also known as magic methods and are used to implement certain behaviors in classes, like object initialization, string representation, and more.\n",
        "'''\n"
      ],
      "metadata": {
        "id": "O6zet1ZchS3c"
      },
      "execution_count": null,
      "outputs": []
    },
    {
      "cell_type": "code",
      "source": [
        "# Q6 Explain the concept of inheritance in OOP?\n",
        "'''\n",
        "Inheritance allows a class (child or subclass) to inherit attributes and methods from another class (parent or superclass).\n",
        "This promotes code reusability and a hierarchical class structure.\n",
        "'''\n",
        "\n",
        "class Animal:\n",
        "    def speak(self):\n",
        "        pass\n",
        "\n",
        "class Cat(Animal):\n",
        "    def speak(self):\n",
        "        return \"Meowww!\"\n"
      ],
      "metadata": {
        "id": "rN5whCi_hlsy"
      },
      "execution_count": null,
      "outputs": []
    },
    {
      "cell_type": "code",
      "source": [
        "# Q7 What is polymorphism in OOP?\n",
        "'''\n",
        "Polymorphism allows objects of different classes to be treated as objects of a common superclass.\n",
        "It enables a single interface to represent different underlying forms (data types).\n",
        "'''"
      ],
      "metadata": {
        "id": "FgNb_mEKiE0S"
      },
      "execution_count": null,
      "outputs": []
    },
    {
      "cell_type": "code",
      "source": [
        "# Q8 How is encapsulation achieved in Python?\n",
        "'''\n",
        "Encapsulation is achieved by defining class attributes as private (by prefixing\n",
        "with double underscores) and providing public methods to access and modify them.\n",
        "'''\n",
        "\n",
        "class Person:\n",
        "    def __init__(self, name, age):\n",
        "        self.__name = name\n",
        "        self.__age = age\n",
        "\n",
        "    def get_age(self):\n",
        "        return self.__age\n",
        "\n",
        "    def set_age(self,age):\n",
        "        self.__age = age\n",
        "\n",
        "obj = Person(\"Ashish\",9)\n",
        "obj.set_age(90)\n",
        "obj.get_age()"
      ],
      "metadata": {
        "colab": {
          "base_uri": "https://localhost:8080/"
        },
        "id": "TY8a_xBXjbex",
        "outputId": "457fe8fa-0ba8-4371-f5a7-2e9f92eba407"
      },
      "execution_count": null,
      "outputs": [
        {
          "output_type": "execute_result",
          "data": {
            "text/plain": [
              "90"
            ]
          },
          "metadata": {},
          "execution_count": 20
        }
      ]
    },
    {
      "cell_type": "code",
      "source": [
        "# Q9 What is a constructor in Python?\n",
        "'''\n",
        "In Python, a constructor is a special method that is automatically called when an object of a class is created.\n",
        "The primary purpose of a constructor is to initialize the object's attributes and perform any setup required when an instance of the class is instantiated.\n",
        "The constructor method in Python is always named __init__. It is also known as the initializer method.\n",
        "The __init__ method is automatically invoked when a new object is created from the class.\n",
        "'''\n",
        "class Person:\n",
        "    def __init__(self, name):\n",
        "        self.name = name\n"
      ],
      "metadata": {
        "id": "NXupj1WonjP_"
      },
      "execution_count": null,
      "outputs": []
    },
    {
      "cell_type": "code",
      "source": [
        "# Q10. What are class and static methods in Python?\n",
        "'''\n",
        "Class methods: Defined using the @classmethod decorator and take the class itself (cls) as the first argument.\n",
        "\n",
        "Static methods: Defined using the @staticmethod decorator and do not take any implicit first argument.\n",
        "'''\n",
        "\n",
        "class MyClass:\n",
        "    @classmethod\n",
        "    def class_method(cls):\n",
        "        print(\"This is a class method.\")\n",
        "\n",
        "    @staticmethod\n",
        "    def static_method():\n",
        "        print(\"This is a static method.\")\n",
        "\n",
        "my = MyClass()\n",
        "my.class_method()\n",
        "my.static_method()"
      ],
      "metadata": {
        "colab": {
          "base_uri": "https://localhost:8080/"
        },
        "id": "AofI0JdwoGtN",
        "outputId": "2f0b5344-2807-4254-c260-0d515e8574bf"
      },
      "execution_count": null,
      "outputs": [
        {
          "output_type": "stream",
          "name": "stdout",
          "text": [
            "This is a class method.\n",
            "This is a static method.\n"
          ]
        }
      ]
    },
    {
      "cell_type": "code",
      "source": [
        "# Q11. What is method overloading in Python?\n",
        "'''\n",
        "Method overloading is a feature in many programming languages that allows a class to have\n",
        "multiple methods with the same name but different parameters (i.e., different number or type of parameters).\n",
        "However, Python does not support method overloading directly in the same way as languages like Java or C++.\n",
        "\n",
        "In Python, you can achieve a similar effect using default arguments, variable-length arguments (*args and **kwargs), or\n",
        "by manually checking the types and number of arguments within a single method. Here's how you can mimic method overloading in Python\n",
        "'''\n",
        "\n",
        "class MyClass:\n",
        "    def greet(self, name=\"Guest\"):\n",
        "        if name:\n",
        "            print(f\"Hello, {name}!\")\n",
        "        else:\n",
        "            print(\"Hello, Guest!\")\n",
        "\n",
        "obj = MyClass()\n",
        "obj.greet()\n",
        "obj.greet(\"Alice\")\n"
      ],
      "metadata": {
        "colab": {
          "base_uri": "https://localhost:8080/"
        },
        "id": "bdu4PCVKpBMW",
        "outputId": "6d9ad221-8d5a-4ae1-9812-492010e6c6e2"
      },
      "execution_count": null,
      "outputs": [
        {
          "output_type": "stream",
          "name": "stdout",
          "text": [
            "Hello, Guest!\n",
            "Hello, Alice!\n"
          ]
        }
      ]
    },
    {
      "cell_type": "code",
      "source": [
        "# Q12. What is method overriding in OOP?\n",
        "'''\n",
        "Method overriding is a fundamental concept in Object-Oriented Programming (OOP) that allows a subclass to\n",
        "provide a specific implementation of a method that is already defined in its superclass.\n",
        "This enables the subclass to alter or extend the behavior of the inherited method.\n",
        "'''\n",
        "class Animal:\n",
        "    def speak(self):\n",
        "        return \"Animal sound\"\n",
        "\n",
        "class Dog(Animal):\n",
        "    def speak(self):\n",
        "        return \"Woof!\"\n",
        "\n",
        "class Cat(Animal):\n",
        "    def speak(self):\n",
        "        return \"Meow!\"\n",
        "\n",
        "# Creating instances of the subclasses\n",
        "dog = Dog()\n",
        "cat = Cat()\n",
        "\n",
        "print(dog.speak())\n",
        "print(cat.speak())"
      ],
      "metadata": {
        "colab": {
          "base_uri": "https://localhost:8080/"
        },
        "id": "LNGRbrpvqL0c",
        "outputId": "c2e20414-1b7d-42c5-e9a8-8ea1167219e4"
      },
      "execution_count": null,
      "outputs": [
        {
          "output_type": "stream",
          "name": "stdout",
          "text": [
            "Woof!\n",
            "Meow!\n"
          ]
        }
      ]
    },
    {
      "cell_type": "code",
      "source": [
        "# Q13. What is a property decorator in Python?\n",
        "'''\n",
        "A property decorator in Python, denoted by @property, is a built-in decorator used to define getter methods in a class.\n",
        "It allows you to control access to an attribute while providing a clean and easy-to-use syntax for accessing that attribute.\n",
        "Property decorators can be used to create read-only properties, computed properties, or properties with custom getters, setters, and deleters.\n",
        "'''\n",
        "class Celsius:\n",
        "    def __init__(self, temperature=0):\n",
        "        self._temperature = temperature\n",
        "\n",
        "    @property\n",
        "    def temperature(self):\n",
        "        return self._temperature\n",
        "\n",
        "    @temperature.setter\n",
        "    def temperature(self, value):\n",
        "        self._temperature = value\n",
        "\n",
        "obj = Celsius(37)\n",
        "obj.temperature"
      ],
      "metadata": {
        "colab": {
          "base_uri": "https://localhost:8080/"
        },
        "id": "IscyTgkXqkqd",
        "outputId": "f1ddc1da-4cb8-4faa-dad3-031b673c5d46"
      },
      "execution_count": null,
      "outputs": [
        {
          "output_type": "execute_result",
          "data": {
            "text/plain": [
              "37"
            ]
          },
          "metadata": {},
          "execution_count": 26
        }
      ]
    },
    {
      "cell_type": "code",
      "source": [
        "# Q14. Why is polymorphism important in OOP?\n",
        "'''\n",
        "Polymorphism is a fundamental concept in Object-Oriented Programming (OOP)\n",
        "that plays a crucial role in making software design more flexible,scalable, and maintainable.\n",
        "Here are several reasons why polymorphism is important:\n",
        "\n",
        "1. Flexibility and Extensibility:\n",
        "           Polymorphism allows objects of different classes to be treated as objects of a common superclass. This means a single function can work with different types of objects.\n",
        "           It makes code more flexible and extensible. You can add new classes without modifying existing code, as long as they adhere to a common interface or superclass.\n",
        "2. Code Reusability:\n",
        "           Polymorphism promotes code reuse by allowing the same method to work with different types of objects.\n",
        "           Reduces code duplication and simplifies code maintenance, as the same piece of code can handle different object types.\n",
        "3. Interface Consistency:\n",
        "           By defining a common interface or superclass, polymorphism ensures that different classes implement the same methods, maintaining a consistent interface.\n",
        "           Simplifies the design of APIs and libraries, as users of the interface don't need to know the specific type of object they are working with.\n",
        "4. Dynamic Binding:\n",
        "           Polymorphism enables dynamic method dispatch, where the method to be called is determined at runtime based on the object's actual type.\n",
        "           Allows for more dynamic and flexible code, as the exact method to be executed can be chosen at runtime, accommodating different behaviors for different objects.\n",
        "5. Simplifies Code:\n",
        "           Polymorphism allows for simpler and more readable code by enabling you to write more generic and high-level code.\n",
        "           Reduces complexity and enhances readability by allowing you to use a single method or function to operate on different types of objects.\n",
        "'''"
      ],
      "metadata": {
        "id": "N5E0ljq0q_nL"
      },
      "execution_count": null,
      "outputs": []
    },
    {
      "cell_type": "code",
      "source": [
        "# Q15. What is an abstract class in Python?\n",
        "'''\n",
        "An abstract class is a class that cannot be instantiated and often includes one or more abstract methods.\n",
        "Abstract methods are methods declared in the abstract class that must be implemented in subclasses.\n",
        "Use the abc module to define abstract classes and methods.\n",
        "'''\n",
        "from abc import ABC, abstractmethod\n",
        "\n",
        "class Animal(ABC):\n",
        "    @abstractmethod\n",
        "    def speak(self):\n",
        "        pass\n"
      ],
      "metadata": {
        "id": "PmcjYtueq_bL"
      },
      "execution_count": null,
      "outputs": []
    },
    {
      "cell_type": "code",
      "source": [
        "# Q16. What are the advantages of OOP?\n",
        "'''\n",
        "1. Modularity:\n",
        "Definition: OOP allows you to divide a program into smaller, manageable pieces (classes and objects). This modularity helps in organizing code logically.\n",
        "Benefit: Easier to manage, understand, and maintain complex programs.\n",
        "\n",
        "2. Reusability:\n",
        "Definition: Classes and objects can be reused across different programs or within the same program. You can create new classes based on existing classes through inheritance.\n",
        "Benefit: Reduces redundancy and promotes code reuse, saving time and effort in development.\n",
        "\n",
        "3. Scalability:\n",
        "Definition: OOP provides a scalable structure by allowing the addition of new classes and objects without affecting existing code.\n",
        "Benefit: Facilitates the growth of applications by making it easier to extend and enhance functionality.\n",
        "\n",
        "4. Maintainability:\n",
        "Definition: OOP promotes encapsulation and abstraction, making it easier to isolate and fix bugs, and to make updates or changes to the code.\n",
        "Benefit: Simplifies debugging, testing, and maintaining the codebase.\n",
        "\n",
        "5. Encapsulation:\n",
        "Definition: Encapsulation bundles data and methods that operate on the data into a single unit (class) and restricts direct access to some of the object's components.\n",
        "Benefit: Protects the internal state of an object and prevents unauthorized access, ensuring data integrity and security.\n",
        "\n",
        "6. Abstraction:\n",
        "Definition: Abstraction hides the complex implementation details and shows only the essential features of an object.\n",
        "Benefit: Simplifies the interaction with objects and allows for a higher-level understanding of the functionality.\n",
        "\n",
        "7. Inheritance:\n",
        "Definition: Inheritance allows a class to inherit attributes and methods from another class, promoting code reuse and creating a hierarchical relationship.\n",
        "Benefit: Reduces code duplication and facilitates the creation of a consistent interface for related objects.\n",
        "\n",
        "8. Polymorphism:\n",
        "Definition: Polymorphism allows objects of different classes to be treated as objects of a common superclass. It enables methods to operate on different types of objects.\n",
        "Benefit: Enhances flexibility and extensibility, allowing for the implementation of generic functions that can work with various object types.\n",
        "'''"
      ],
      "metadata": {
        "id": "5-Fo_YJFrtaC"
      },
      "execution_count": null,
      "outputs": []
    },
    {
      "cell_type": "code",
      "source": [
        "# Q17. What is the difference between a class variable and an instance variable?\n",
        "'''\n",
        "Class Variable: Shared among all instances of a class.\n",
        "\n",
        "Instance Variable: Unique to each instance of a class.\n",
        "'''\n",
        "\n",
        "class MyClass:\n",
        "    class_var = 0\n",
        "\n",
        "    def __init__(self, instance_var):\n",
        "        self.instance_var = instance_var\n",
        "obj = MyClass(10)\n",
        "obj.class_var\n",
        "obj.instance_var"
      ],
      "metadata": {
        "colab": {
          "base_uri": "https://localhost:8080/"
        },
        "id": "SkzhoRoRr3GP",
        "outputId": "e04b93f5-6f7b-4c71-d674-d28c663488fc"
      },
      "execution_count": null,
      "outputs": [
        {
          "output_type": "execute_result",
          "data": {
            "text/plain": [
              "10"
            ]
          },
          "metadata": {},
          "execution_count": 32
        }
      ]
    },
    {
      "cell_type": "code",
      "source": [
        "# Q18. What is multiple inheritance in Python?\n",
        "'''\n",
        "Multiple inheritance is a feature in Python that allows a class to inherit attributes and methods from more than one parent class.\n",
        "This means that a subclass can have more than one superclass and can combine the behaviors and properties of multiple parent classes.\n",
        "'''\n",
        "class Animal:\n",
        "    def speak(self):\n",
        "        return \"Animal sound\"\n",
        "\n",
        "class Bird(Animal):\n",
        "    def fly(self):\n",
        "        return \"Birds are flying\"\n",
        "\n",
        "class Fish(Animal):\n",
        "    def swim(self):\n",
        "        return \"Fish is swimming\"\n",
        "\n",
        "class FlyingFish(Bird, Fish):\n",
        "    pass\n",
        "\n",
        "# Creating an instance of FlyingFish\n",
        "flying_fish = FlyingFish()\n",
        "\n",
        "print(flying_fish.speak())\n",
        "print(flying_fish.fly())\n",
        "print(flying_fish.swim())\n"
      ],
      "metadata": {
        "colab": {
          "base_uri": "https://localhost:8080/"
        },
        "id": "gyCZPWTesPdG",
        "outputId": "58f207db-6da5-4d0a-92c4-f25d39ddaa36"
      },
      "execution_count": null,
      "outputs": [
        {
          "output_type": "stream",
          "name": "stdout",
          "text": [
            "Animal sound\n",
            "Birds are flying\n",
            "Fish is swimming\n"
          ]
        }
      ]
    },
    {
      "cell_type": "code",
      "source": [
        "# Q19. Explain the purpose of __str__ and __repr__ methods in Python?\n",
        "'''\n",
        "__str__: Returns a user-friendly string representation of an object, used by print() and str().\n",
        "\n",
        "__repr__: Returns an unambiguous string representation of an object, used for debugging and by repr().\n",
        "'''\n",
        "\n",
        "class MyClass:\n",
        "    def __str__(self):\n",
        "        return \"User-friendly string\"\n",
        "\n",
        "    def __repr__(self):\n",
        "        return \"Unambiguous string\"\n",
        "obj = MyClass()\n",
        "print(obj)\n",
        "print(obj.__str__())\n",
        "print(obj.__repr__())"
      ],
      "metadata": {
        "colab": {
          "base_uri": "https://localhost:8080/"
        },
        "id": "sjFU7gFAshF_",
        "outputId": "cf0f86ac-9e1d-40aa-c695-099ff4873074"
      },
      "execution_count": null,
      "outputs": [
        {
          "output_type": "stream",
          "name": "stdout",
          "text": [
            "User-friendly string\n",
            "User-friendly string\n",
            "Unambiguous string\n"
          ]
        }
      ]
    },
    {
      "cell_type": "code",
      "source": [
        "# Q20. What is the significance of the super() function in Python?\n",
        "'''\n",
        "The super() function in Python is a built-in function that is used to call methods from a parent class.\n",
        "It allows you to access methods and properties of a superclass from within a subclass.\n",
        "The significance of super() lies in its ability to make the code more maintainable, reusable, and easier to manage, especially in the context of inheritance.\n",
        "'''\n",
        "\n",
        "class Parent:\n",
        "    def show(self):\n",
        "        print(\"Parent method\")\n",
        "\n",
        "class Child(Parent):\n",
        "    def show(self):\n",
        "        super().show()\n",
        "        print(\"Child method\")\n",
        "obj = Child()\n",
        "obj.show()"
      ],
      "metadata": {
        "colab": {
          "base_uri": "https://localhost:8080/"
        },
        "id": "anMhl3RDs-43",
        "outputId": "8b50ff7c-0059-40f8-cce0-78dc65890427"
      },
      "execution_count": null,
      "outputs": [
        {
          "output_type": "stream",
          "name": "stdout",
          "text": [
            "Parent method\n",
            "Child method\n"
          ]
        }
      ]
    },
    {
      "cell_type": "code",
      "source": [
        "# Q21. What is the significance of the __del__ method in Python?\n",
        "'''\n",
        "The __del__ method in Python is known as the destructor method. It is called when an object is about to be destroyed,\n",
        "and it allows you to define custom cleanup behavior for your objects.\n",
        "The __del__ method can be useful for releasing resources,\n",
        "such as closing files or network connections, or performing other cleanup tasks before an object is reclaimed by the garbage collector.\n",
        "'''\n",
        "\n",
        "class MyClass:\n",
        "    def __del__(self):\n",
        "        print(\"Object destroyed\")\n"
      ],
      "metadata": {
        "id": "Cyzg6G8btXaU"
      },
      "execution_count": null,
      "outputs": []
    },
    {
      "cell_type": "code",
      "source": [
        "# Q22. What is the difference between @staticmethod and @classmethod in Python?\n",
        "'''\n",
        "@staticmethod: Does not take any implicit first argument. It can be called on the class itself or an instance.\n",
        "\n",
        "@classmethod: Takes the class itself (cls) as the first argument. It can be called on the class itself or an instance.\n",
        "\n",
        "Key Differences:\n",
        "\n",
        "Access:\n",
        "        @staticmethod: Cannot access the instance (self) or class (cls).\n",
        "        @classmethod: Takes the class itself (cls) as the first argument and can access or modify class variables and methods.\n",
        "Context:\n",
        "        @staticmethod: Used when a method does not need to access or modify the class state or instance state.\n",
        "        @classmethod: Used when a method needs to access or modify the class state.\n",
        "Functionality:\n",
        "        @staticmethod: Behaves like a regular function that belongs to the class's namespace.\n",
        "        @classmethod: Can be used to create factory methods that return class instances.\n",
        "'''"
      ],
      "metadata": {
        "id": "SDKKJYJLtmwe"
      },
      "execution_count": null,
      "outputs": []
    },
    {
      "cell_type": "code",
      "source": [
        "# Q23. How does polymorphism work in Python with inheritance?\n",
        "'''\n",
        "Polymorphism allows objects of different classes to be treated as objects of a common superclass.\n",
        "It enables a single interface to represent different underlying forms (data types).\n",
        "And\n",
        "Polymorphism in Python allows methods in different classes to be called through the same interface. When classes inherit from a common superclass,\n",
        "they can override its methods, allowing different behaviors for the same method call.\n",
        "'''\n",
        "\n",
        "class Animal:\n",
        "    def speak(self):\n",
        "        pass\n",
        "\n",
        "class Dog(Animal):\n",
        "    def speak(self):\n",
        "        return \"Bhooh!\"\n",
        "\n",
        "class Cat(Animal):\n",
        "    def speak(self):\n",
        "        return \"Meoww!\"\n",
        "\n",
        "def animal_sound(animal):\n",
        "    print(animal.speak())\n",
        "\n",
        "animal_sound(Dog())  # Output: Woof!\n",
        "animal_sound(Cat())  # Output: Meow!\n"
      ],
      "metadata": {
        "colab": {
          "base_uri": "https://localhost:8080/"
        },
        "id": "KekqGgsXtvIm",
        "outputId": "615822ab-ba48-41a0-fa1a-39c9f7cf0214"
      },
      "execution_count": null,
      "outputs": [
        {
          "output_type": "stream",
          "name": "stdout",
          "text": [
            "Bhooh!\n",
            "Meoww!\n"
          ]
        }
      ]
    },
    {
      "cell_type": "code",
      "source": [
        "# Q24. What is method chaining in Python OOP?\n",
        "'''\n",
        "Method chaining is a technique in Object-Oriented Programming (OOP) where multiple methods are called on the same object consecutively.\n",
        "This is done by having each method return the object itself (self).\n",
        "It allows for a more concise and readable way to perform a sequence of operations on the same object.\n",
        "\n",
        "In method chaining, each method in the chain returns the current instance of the object, which allows the subsequent method to be called on the same instance.\n",
        "This technique can make your code more expressive and easier to read.\n",
        "'''\n",
        "class MyClass:\n",
        "    def method1(self):\n",
        "        print(\"Method 1\")\n",
        "        return self\n",
        "\n",
        "    def method2(self):\n",
        "        print(\"Method 2\")\n",
        "        return self\n",
        "\n",
        "obj = MyClass()\n",
        "obj.method1().method2()\n"
      ],
      "metadata": {
        "colab": {
          "base_uri": "https://localhost:8080/"
        },
        "id": "8mXXbfJBuLMr",
        "outputId": "df67219e-7cfc-4f0e-cc29-5513b8407e35"
      },
      "execution_count": null,
      "outputs": [
        {
          "output_type": "stream",
          "name": "stdout",
          "text": [
            "Method 1\n",
            "Method 2\n"
          ]
        },
        {
          "output_type": "execute_result",
          "data": {
            "text/plain": [
              "<__main__.MyClass at 0x791f19f613c0>"
            ]
          },
          "metadata": {},
          "execution_count": 40
        }
      ]
    },
    {
      "cell_type": "markdown",
      "source": [
        "# Practical Questions"
      ],
      "metadata": {
        "id": "AZ6Js3GahqUn"
      }
    },
    {
      "cell_type": "code",
      "source": [
        "# Q1  Create a parent class Animal with a method speak() that prints a generic message. Create a child class Dog that overrides the speak() method to print \"Bark!\".\n",
        "\n",
        "class Animal():\n",
        "    def speak(self):\n",
        "      print(\"Bark!, This is happen in parent class\")\n",
        "class Dog(Animal):\n",
        "  def speak(self):\n",
        "    print(\"Bark!\")\n",
        "\n",
        "obj = Dog()\n",
        "obj.speak()"
      ],
      "metadata": {
        "colab": {
          "base_uri": "https://localhost:8080/"
        },
        "id": "AUfe5n2phvmD",
        "outputId": "8249cfd8-a74c-45a0-8981-1eb87578b991"
      },
      "execution_count": 1,
      "outputs": [
        {
          "output_type": "stream",
          "name": "stdout",
          "text": [
            "Bark!\n"
          ]
        }
      ]
    },
    {
      "cell_type": "code",
      "source": [
        "# Q2. Write a program to create an abstract class Shape with a method area(). Derive classes Circle and Rectangle from it and implement the area() method in both.\n",
        "from abc import ABC, abstractmethod\n",
        "import math\n",
        "\n",
        "# Abstract class\n",
        "class Shape(ABC):\n",
        "    @abstractmethod\n",
        "    def area(self):\n",
        "        pass\n",
        "\n",
        "# Derived class Circle\n",
        "class Circle(Shape):\n",
        "    def __init__(self, radius):\n",
        "        self.radius = radius\n",
        "\n",
        "    def area(self):\n",
        "        return math.pi * self.radius ** 2\n",
        "\n",
        "# Derived class Rectangle\n",
        "class Rectangle(Shape):\n",
        "    def __init__(self, width, height):\n",
        "        self.width = width\n",
        "        self.height = height\n",
        "\n",
        "    def area(self):\n",
        "        return self.width * self.height\n",
        "\n",
        "# Create instances of Circle and Rectangle\n",
        "circle = Circle(5)\n",
        "rectangle = Rectangle(4, 6)\n",
        "\n",
        "# Calculate and display the area of the shapes\n",
        "print(f\"Area of the circle: {circle.area()}\")       # Output: 78.53981633974483\n",
        "print(f\"Area of the rectangle: {rectangle.area()}\") # Output: 24\n",
        "\n"
      ],
      "metadata": {
        "colab": {
          "base_uri": "https://localhost:8080/"
        },
        "id": "0KRXPy33i_DV",
        "outputId": "14cc80b3-4054-4b49-ea82-62f74fdb2e14"
      },
      "execution_count": 5,
      "outputs": [
        {
          "output_type": "stream",
          "name": "stdout",
          "text": [
            "Area of the circle: 78.53981633974483\n",
            "Area of the rectangle: 24\n"
          ]
        }
      ]
    },
    {
      "cell_type": "code",
      "source": [
        "# Q3  Implement a multi-level inheritance scenario where a class Vehicle has an attribute type. Derive a class Car and further derive a class ElectricCar that adds a battery attribute.\n",
        "\n",
        "# Base class\n",
        "class Vehicle:\n",
        "    def __init__(self, vehicle_type):\n",
        "        self.vehicle_type = vehicle_type\n",
        "\n",
        "    def show_type(self):\n",
        "        print(f\"Vehicle type: {self.vehicle_type}\")\n",
        "\n",
        "# Derived class\n",
        "class Car(Vehicle):\n",
        "    def __init__(self, vehicle_type, brand):\n",
        "        super().__init__(vehicle_type)  # Initialize the base class\n",
        "        self.brand = brand\n",
        "\n",
        "    def show_brand(self):\n",
        "        print(f\"Car brand: {self.brand}\")\n",
        "\n",
        "# Further derived class\n",
        "class ElectricCar(Car):\n",
        "    def __init__(self, vehicle_type, brand, battery):\n",
        "        super().__init__(vehicle_type, brand)  # Initialize the parent class\n",
        "        self.battery = battery\n",
        "\n",
        "    def show_battery(self):\n",
        "        print(f\"Battery capacity: {self.battery} kWh\")\n",
        "\n",
        "# Creating instances of the classes\n",
        "vehicle = Vehicle(\"General\")\n",
        "car = Car(\"Sedan\", \"Toyota\")\n",
        "electric_car = ElectricCar(\"Sedan\", \"Tesla\", 100)\n",
        "\n",
        "# Display information\n",
        "vehicle.show_type()               # Output: Vehicle type: General\n",
        "car.show_type()                   # Output: Vehicle type: Sedan\n",
        "car.show_brand()                  # Output: Car brand: Toyota\n",
        "electric_car.show_type()          # Output: Vehicle type: Sedan\n",
        "electric_car.show_brand()         # Output: Car brand: Tesla\n",
        "electric_car.show_battery()       # Output: Battery capacity: 100 kWh\n"
      ],
      "metadata": {
        "colab": {
          "base_uri": "https://localhost:8080/"
        },
        "id": "jxCrWU_Qlf3h",
        "outputId": "5b83ea46-a4b9-46ba-9b27-ad113649e3a3"
      },
      "execution_count": 6,
      "outputs": [
        {
          "output_type": "stream",
          "name": "stdout",
          "text": [
            "Vehicle type: General\n",
            "Vehicle type: Sedan\n",
            "Car brand: Toyota\n",
            "Vehicle type: Sedan\n",
            "Car brand: Tesla\n",
            "Battery capacity: 100 kWh\n"
          ]
        }
      ]
    },
    {
      "cell_type": "code",
      "source": [
        "# Q4 . Implement a multi-level inheritance scenario where a class Vehicle has an attribute type. Derive a class Car and further derive a class ElectricCar that adds a battery attribute.\n",
        "\n",
        "# Base class\n",
        "class Vehicle:\n",
        "    def __init__(self, vehicle_type):\n",
        "        self.vehicle_type = vehicle_type\n",
        "\n",
        "    def show_type(self):\n",
        "        print(f\"Vehicle type: {self.vehicle_type}\")\n",
        "\n",
        "# Derived class\n",
        "class Car(Vehicle):\n",
        "    def __init__(self, vehicle_type, brand):\n",
        "        super().__init__(vehicle_type)  # Initialize the base class\n",
        "        self.brand = brand\n",
        "\n",
        "    def show_brand(self):\n",
        "        print(f\"Car brand: {self.brand}\")\n",
        "\n",
        "# Further derived class\n",
        "class ElectricCar(Car):\n",
        "    def __init__(self, vehicle_type, brand, battery_capacity):\n",
        "        super().__init__(vehicle_type, brand)  # Initialize the parent class\n",
        "        self.battery_capacity = battery_capacity\n",
        "\n",
        "    def show_battery(self):\n",
        "        print(f\"Battery capacity: {self.battery_capacity} kWh\")\n",
        "\n",
        "# Creating instances of the classes\n",
        "vehicle = Vehicle(\"General\")\n",
        "car = Car(\"Sedan\", \"Toyota\")\n",
        "electric_car = ElectricCar(\"Sedan\", \"Tesla\", 100)\n",
        "\n",
        "# Display information\n",
        "vehicle.show_type()               # Output: Vehicle type: General\n",
        "car.show_type()                   # Output: Vehicle type: Sedan\n",
        "car.show_brand()                  # Output: Car brand: Toyota\n",
        "electric_car.show_type()          # Output: Vehicle type: Sedan\n",
        "electric_car.show_brand()         # Output: Car brand: Tesla\n",
        "electric_car.show_battery()       # Output: Battery capacity: 100 kWh\n"
      ],
      "metadata": {
        "colab": {
          "base_uri": "https://localhost:8080/"
        },
        "id": "pMAnY1B0nYSN",
        "outputId": "dd9c32b5-bae7-4742-dd3b-51acbe51a5bf"
      },
      "execution_count": 7,
      "outputs": [
        {
          "output_type": "stream",
          "name": "stdout",
          "text": [
            "Vehicle type: General\n",
            "Vehicle type: Sedan\n",
            "Car brand: Toyota\n",
            "Vehicle type: Sedan\n",
            "Car brand: Tesla\n",
            "Battery capacity: 100 kWh\n"
          ]
        }
      ]
    },
    {
      "cell_type": "code",
      "source": [
        "# Q5 Write a program to demonstrate encapsulation by creating a class BankAccount with private attributes balance and methods to deposit, withdraw, and check balance.\n",
        "\n",
        "class BankAccount:\n",
        "    def __init__(self, initial_balance=0):\n",
        "        self.__balance = initial_balance\n",
        "\n",
        "    def deposit(self, amount):\n",
        "        if amount > 0:\n",
        "            self.__balance += amount\n",
        "            print(f\"Deposited: {amount}\")\n",
        "        else:\n",
        "            print(\"Deposit amount must be positive.\")\n",
        "\n",
        "    def withdraw(self, amount):\n",
        "        if amount > 0:\n",
        "            if amount <= self.__balance:\n",
        "                self.__balance -= amount\n",
        "                print(f\"Withdrew: {amount}\")\n",
        "            else:\n",
        "                print(\"Insufficient funds.\")\n",
        "        else:\n",
        "            print(\"Withdrawal amount must be positive.\")\n",
        "\n",
        "    def check_balance(self):\n",
        "        return self.__balance\n",
        "\n",
        "# Create an instance of BankAccount\n",
        "account = BankAccount(100)\n",
        "\n",
        "# Demonstrate encapsulation\n",
        "account.deposit(50)       # Deposited: 50\n",
        "account.withdraw(30)      # Withdrew: 30\n",
        "print(f\"Balance: {account.check_balance()}\")  # Balance: 120\n",
        "account.withdraw(200)     # Insufficient funds.\n",
        "print(f\"Balance: {account.check_balance()}\")  # Balance: 120\n"
      ],
      "metadata": {
        "colab": {
          "base_uri": "https://localhost:8080/"
        },
        "id": "VQBhoDCNnwyV",
        "outputId": "17c014a8-bf8b-4c2b-a2aa-cde75cfb15bb"
      },
      "execution_count": 8,
      "outputs": [
        {
          "output_type": "stream",
          "name": "stdout",
          "text": [
            "Deposited: 50\n",
            "Withdrew: 30\n",
            "Balance: 120\n",
            "Insufficient funds.\n",
            "Balance: 120\n"
          ]
        }
      ]
    },
    {
      "cell_type": "code",
      "source": [
        "# Q6 Demonstrate runtime polymorphism using a method play() in a base class Instrument. Derive classes Guitar and Piano that implement their own version of play()\n",
        "\n",
        "# Base class\n",
        "class Instrument:\n",
        "    def play(self):\n",
        "        raise NotImplementedError(\"Subclass must implement abstract method\")\n",
        "\n",
        "# Derived class Guitar\n",
        "class Guitar(Instrument):\n",
        "    def play(self):\n",
        "        print(\"Playing the guitar: Strum, strum, strum!\")\n",
        "\n",
        "# Derived class Piano\n",
        "class Piano(Instrument):\n",
        "    def play(self):\n",
        "        print(\"Playing the piano: Plink, plink, plink!\")\n",
        "\n",
        "# Function to demonstrate runtime polymorphism\n",
        "def play_instrument(instrument):\n",
        "    instrument.play()\n",
        "\n",
        "# Creating instances of Guitar and Piano\n",
        "guitar = Guitar()\n",
        "piano = Piano()\n",
        "\n",
        "# Demonstrating runtime polymorphism\n",
        "play_instrument(guitar)  # Output: Playing the guitar: Strum, strum, strum!\n",
        "play_instrument(piano)   # Output: Playing the piano: Plink, plink, plink!\n"
      ],
      "metadata": {
        "colab": {
          "base_uri": "https://localhost:8080/"
        },
        "id": "W2HZkZh_oPrk",
        "outputId": "fbe2287f-3f8e-4c17-dfac-52f3dd8f7a92"
      },
      "execution_count": 10,
      "outputs": [
        {
          "output_type": "stream",
          "name": "stdout",
          "text": [
            "Playing the guitar: Strum, strum, strum!\n",
            "Playing the piano: Plink, plink, plink!\n"
          ]
        }
      ]
    },
    {
      "cell_type": "code",
      "source": [
        "# Q7  Create a class MathOperations with a class method add_numbers() to add two numbers and a static method subtract_numbers() to subtract two numbers.\n",
        "\n",
        "class MathOperations:\n",
        "    @classmethod\n",
        "    def add_numbers(cls, a, b):\n",
        "        return a + b\n",
        "\n",
        "    @staticmethod\n",
        "    def subtract_numbers(a, b):\n",
        "        return a - b\n",
        "\n",
        "# Usage\n",
        "# Calling the class method\n",
        "result_add = MathOperations.add_numbers(10, 5)\n",
        "print(f\"Addition result: {result_add}\")  # Output: Addition result: 15\n",
        "\n",
        "# Calling the static method\n",
        "result_subtract = MathOperations.subtract_numbers(10, 5)\n",
        "print(f\"Subtraction result: {result_subtract}\")  # Output: Subtraction result: 5\n"
      ],
      "metadata": {
        "colab": {
          "base_uri": "https://localhost:8080/"
        },
        "id": "nPYhkZQ4oi0L",
        "outputId": "d5e84a29-c7ee-40c5-bb87-0e184af9bdcc"
      },
      "execution_count": 9,
      "outputs": [
        {
          "output_type": "stream",
          "name": "stdout",
          "text": [
            "Addition result: 15\n",
            "Subtraction result: 5\n"
          ]
        }
      ]
    },
    {
      "cell_type": "code",
      "source": [
        "# Q8 . Implement a class Person with a class method to count the total number of persons created.\n",
        "\n",
        "class Person:\n",
        "    # Class variable to keep track of the number of persons created\n",
        "    _person_count = 0\n",
        "\n",
        "    def __init__(self, name):\n",
        "        self.name = name\n",
        "        # Increment the count each time a new person is created\n",
        "        Person._person_count += 1\n",
        "\n",
        "    @classmethod\n",
        "    def get_person_count(cls):\n",
        "        # Class method to return the current count of persons\n",
        "        return cls._person_count\n",
        "\n",
        "# Creating instances of Person\n",
        "person1 = Person(\"Alice\")\n",
        "person2 = Person(\"Bob\")\n",
        "person3 = Person(\"Charlie\")\n",
        "\n",
        "# Display the total number of persons created\n",
        "print(f\"Total number of persons created: {Person.get_person_count()}\")  # Output: Total number of persons created: 3\n"
      ],
      "metadata": {
        "colab": {
          "base_uri": "https://localhost:8080/"
        },
        "id": "4EqNEB4Do9HL",
        "outputId": "68096dc3-6902-4bf8-948c-083364037b25"
      },
      "execution_count": 11,
      "outputs": [
        {
          "output_type": "stream",
          "name": "stdout",
          "text": [
            "Total number of persons created: 3\n"
          ]
        }
      ]
    },
    {
      "cell_type": "code",
      "source": [
        "# Q9 Write a class Fraction with attributes numerator and denominator. Override the str method to display the fraction as \"numerator/denominator\".\n",
        "\n",
        "class Fraction:\n",
        "    def __init__(self, numerator, denominator):\n",
        "        self.numerator = numerator\n",
        "        self.denominator = denominator\n",
        "\n",
        "    def __str__(self):\n",
        "        return f\"{self.numerator}/{self.denominator}\"\n",
        "\n",
        "# Creating instances of Fraction\n",
        "fraction1 = Fraction(3, 4)\n",
        "fraction2 = Fraction(5, 8)\n",
        "\n",
        "# Display the fractions\n",
        "print(fraction1)  # Output: 3/4\n",
        "print(fraction2)  # Output: 5/8\n"
      ],
      "metadata": {
        "colab": {
          "base_uri": "https://localhost:8080/"
        },
        "id": "lXbSZjuZpQtx",
        "outputId": "7f97ce74-248f-401a-9921-25b4fa219bc9"
      },
      "execution_count": 12,
      "outputs": [
        {
          "output_type": "stream",
          "name": "stdout",
          "text": [
            "3/4\n",
            "5/8\n"
          ]
        }
      ]
    },
    {
      "cell_type": "code",
      "source": [
        "# Q10 Demonstrate operator overloading by creating a class Vector and overriding the add method to add two vectors.\n",
        "\n",
        "class Vector:\n",
        "    def __init__(self, x, y):\n",
        "        self.x = x\n",
        "        self.y = y\n",
        "\n",
        "    def __add__(self, other):\n",
        "        return Vector(self.x + other.x, self.y + other.y)\n",
        "\n",
        "    def __str__(self):\n",
        "        return f\"({self.x}, {self.y})\"\n",
        "\n",
        "# Creating instances of Vector\n",
        "vector1 = Vector(2, 3)\n",
        "vector2 = Vector(4, 5)\n",
        "\n",
        "# Adding two vectors using the overloaded + operator\n",
        "result = vector1 + vector2\n",
        "\n",
        "# Display the result\n",
        "print(f\"Vector 1: {vector1}\")  # Output: Vector 1: (2, 3)\n",
        "print(f\"Vector 2: {vector2}\")  # Output: Vector 2: (4, 5)\n",
        "print(f\"Result: {result}\")     # Output: Result: (6, 8)\n"
      ],
      "metadata": {
        "colab": {
          "base_uri": "https://localhost:8080/"
        },
        "id": "0I8QKcm-pfjp",
        "outputId": "5577f152-a584-450e-97ab-5296cb83fe02"
      },
      "execution_count": 13,
      "outputs": [
        {
          "output_type": "stream",
          "name": "stdout",
          "text": [
            "Vector 1: (2, 3)\n",
            "Vector 2: (4, 5)\n",
            "Result: (6, 8)\n"
          ]
        }
      ]
    },
    {
      "cell_type": "code",
      "source": [
        "# Q11 Create a class Person with attributes name and age. Add a method greet() that prints \"Hello, my name is {name} and I am {age} years old.\"\n",
        "class Person:\n",
        "    def __init__(self, name, age):\n",
        "        self.name = name\n",
        "        self.age = age\n",
        "\n",
        "    def greet(self):\n",
        "        print(f\"Hello, my name is {self.name} and I am {self.age} years old.\")\n",
        "\n",
        "# Creating an instance of Person\n",
        "per = Person(\"Ashish\", 30)\n",
        "\n",
        "# Calling the greet method\n",
        "per.greet()  # Output: Hello, my name is Alice and I am 30 years old.\n"
      ],
      "metadata": {
        "colab": {
          "base_uri": "https://localhost:8080/"
        },
        "id": "Ac3uRlocpvPi",
        "outputId": "991378c0-a66f-4e33-8125-9a531d6f1764"
      },
      "execution_count": 15,
      "outputs": [
        {
          "output_type": "stream",
          "name": "stdout",
          "text": [
            "Hello, my name is Ashish and I am 30 years old.\n"
          ]
        }
      ]
    },
    {
      "cell_type": "code",
      "source": [
        "# Q12  Implement a class Student with attributes name and grades. Create a method average_grade() to compute the average of the grades.\n",
        "\n",
        "class Student:\n",
        "    def __init__(self, name, grades):\n",
        "        self.name = name\n",
        "        self.grades = grades\n",
        "\n",
        "    def average_grade(self):\n",
        "        if self.grades:\n",
        "            return sum(self.grades) / len(self.grades)\n",
        "        else:\n",
        "            return 0.0\n",
        "\n",
        "# Creating an instance of Student\n",
        "student = Student(\"Ashish Saini\", [85, 92, 78, 90, 88])\n",
        "\n",
        "# Calling the average_grade method\n",
        "average = student.average_grade()\n",
        "print(f\"{student.name}'s average grade: {average:.2f}\")  # Output: John Doe's average grade: 86.60\n"
      ],
      "metadata": {
        "colab": {
          "base_uri": "https://localhost:8080/"
        },
        "id": "GbKTIiGVqKfQ",
        "outputId": "fdf9291d-c915-4bf9-ad55-4ca241f5d9bf"
      },
      "execution_count": 17,
      "outputs": [
        {
          "output_type": "stream",
          "name": "stdout",
          "text": [
            "Ashish Saini's average grade: 86.60\n"
          ]
        }
      ]
    },
    {
      "cell_type": "code",
      "source": [
        "# Q13  Create a class Rectangle with methods set_dimensions() to set the dimensions and area() to calculate the area.\n",
        "\n",
        "class Rectangle:\n",
        "    def __init__(self):\n",
        "        self.width = 0\n",
        "        self.height = 0\n",
        "\n",
        "    def set_dimensions(self, width, height):\n",
        "        self.width = width\n",
        "        self.height = height\n",
        "\n",
        "    def area(self):\n",
        "        return self.width * self.height\n",
        "\n",
        "# Creating an instance of Rectangle\n",
        "rect = Rectangle()\n",
        "\n",
        "# Setting dimensions\n",
        "rect.set_dimensions(4, 5)\n",
        "\n",
        "# Calculating the area\n",
        "rect_area = rect.area()\n",
        "print(f\"Area of the rectangle: {rect_area}\")  # Output: Area of the rectangle: 20\n"
      ],
      "metadata": {
        "colab": {
          "base_uri": "https://localhost:8080/"
        },
        "id": "e7Mfi747qmnh",
        "outputId": "afccfc94-93f3-4ae7-c1a5-ffabb0181ee9"
      },
      "execution_count": 18,
      "outputs": [
        {
          "output_type": "stream",
          "name": "stdout",
          "text": [
            "Area of the rectangle: 20\n"
          ]
        }
      ]
    },
    {
      "cell_type": "code",
      "source": [
        "# Q14  Create a class Employee with a method calculate_salary() that computes the salary based on hours worked and hourly rate. Create a derived class Manager that adds a bonus to the salary\n",
        "\n",
        "class Employee:\n",
        "    def __init__(self, name, hours_worked, hourly_rate):\n",
        "        self.name = name\n",
        "        self.hours_worked = hours_worked\n",
        "        self.hourly_rate = hourly_rate\n",
        "\n",
        "    def calculate_salary(self):\n",
        "        return self.hours_worked * self.hourly_rate\n",
        "\n",
        "class Manager(Employee):\n",
        "    def __init__(self, name, hours_worked, hourly_rate, bonus):\n",
        "        super().__init__(name, hours_worked, hourly_rate)\n",
        "        self.bonus = bonus\n",
        "\n",
        "    def calculate_salary(self):\n",
        "        base_salary = super().calculate_salary()\n",
        "        return base_salary + self.bonus\n",
        "\n",
        "# Creating instances of Employee and Manager\n",
        "employee = Employee(\"Ashish Saini\", 40, 20)\n",
        "manager = Manager(\"Ravi Balan\", 40, 30, 500)\n",
        "\n",
        "# Calculating salaries\n",
        "employee_salary = employee.calculate_salary()\n",
        "manager_salary = manager.calculate_salary()\n",
        "\n",
        "# Displaying the salaries\n",
        "print(f\"{employee.name}'s salary: ${employee_salary}\")  # Output: John Doe's salary: $800\n",
        "print(f\"{manager.name}'s salary: ${manager_salary}\")    # Output: Jane Smith's salary: $1700\n"
      ],
      "metadata": {
        "colab": {
          "base_uri": "https://localhost:8080/"
        },
        "id": "nDSL6MU7qy1_",
        "outputId": "c1557ba2-a581-4fc2-b385-eaca70588f58"
      },
      "execution_count": 20,
      "outputs": [
        {
          "output_type": "stream",
          "name": "stdout",
          "text": [
            "Ashish Saini's salary: $800\n",
            "Ravi Balan's salary: $1700\n"
          ]
        }
      ]
    },
    {
      "cell_type": "code",
      "source": [
        "# Q15  Create a class Product with attributes name, price, and quantity. Implement a method total_price() that calculates the total price of the product.\n",
        "\n",
        "class Product:\n",
        "    def __init__(self, name, price, quantity):\n",
        "        self.name = name\n",
        "        self.price = price\n",
        "        self.quantity = quantity\n",
        "\n",
        "    def total_price(self):\n",
        "        return self.price * self.quantity\n",
        "\n",
        "# Creating an instance of Product\n",
        "product = Product(\"Laptop\", 1000, 3)\n",
        "\n",
        "# Calculating the total price\n",
        "total = product.total_price()\n",
        "print(f\"Total price of {product.name}: ${total}\")  # Output: Total price of Laptop: $3000\n"
      ],
      "metadata": {
        "colab": {
          "base_uri": "https://localhost:8080/"
        },
        "id": "S9muhvtUrJuv",
        "outputId": "0714f79f-0716-43b1-ecbe-b4379cab1f12"
      },
      "execution_count": 21,
      "outputs": [
        {
          "output_type": "stream",
          "name": "stdout",
          "text": [
            "Total price of Laptop: $3000\n"
          ]
        }
      ]
    },
    {
      "cell_type": "code",
      "source": [
        "# Q16 Create a class Animal with an abstract method sound(). Create two derived classes Cow and Sheep that implement the sound() method.\n",
        "\n",
        "from abc import ABC, abstractmethod\n",
        "\n",
        "# Abstract class\n",
        "class Animal(ABC):\n",
        "    @abstractmethod\n",
        "    def sound(self):\n",
        "        pass\n",
        "\n",
        "# Derived class Cow\n",
        "class Cow(Animal):\n",
        "    def sound(self):\n",
        "        return \"Moo!\"\n",
        "\n",
        "# Derived class Sheep\n",
        "class Sheep(Animal):\n",
        "    def sound(self):\n",
        "        return \"Baa!\"\n",
        "\n",
        "# Creating instances of Cow and Sheep\n",
        "cow = Cow()\n",
        "sheep = Sheep()\n",
        "\n",
        "# Displaying the sounds\n",
        "print(f\"Cow sound: {cow.sound()}\")    # Output: Cow sound: Moo!\n",
        "print(f\"Sheep sound: {sheep.sound()}\")  # Output: Sheep sound: Baa!\n"
      ],
      "metadata": {
        "colab": {
          "base_uri": "https://localhost:8080/"
        },
        "id": "i4vAPxuIrb4F",
        "outputId": "afba30d8-809a-4e2c-97b3-c1f19ea96fcf"
      },
      "execution_count": 22,
      "outputs": [
        {
          "output_type": "stream",
          "name": "stdout",
          "text": [
            "Cow sound: Moo!\n",
            "Sheep sound: Baa!\n"
          ]
        }
      ]
    },
    {
      "cell_type": "code",
      "source": [
        "# Q17 Create a class Book with attributes title, author, and year_published. Add a method get_book_info() that returns a formatted string with the book's details\n",
        "\n",
        "class Book:\n",
        "    def __init__(self, title, author, year_published):\n",
        "        self.title = title\n",
        "        self.author = author\n",
        "        self.year_published = year_published\n",
        "\n",
        "    def get_book_info(self):\n",
        "        return f\"Title: {self.title}\\nAuthor: {self.author}\\nYear Published: {self.year_published}\"\n",
        "\n",
        "# Creating an instance of Book\n",
        "book = Book(\"1984\", \"George Orwell\", 1949)\n",
        "\n",
        "# Getting the book information\n",
        "book_info = book.get_book_info()\n",
        "print(book_info)\n"
      ],
      "metadata": {
        "colab": {
          "base_uri": "https://localhost:8080/"
        },
        "id": "vLYw59DZrnrt",
        "outputId": "b3dfeb89-c136-4dfc-8589-ae025ff0d259"
      },
      "execution_count": 23,
      "outputs": [
        {
          "output_type": "stream",
          "name": "stdout",
          "text": [
            "Title: 1984\n",
            "Author: George Orwell\n",
            "Year Published: 1949\n"
          ]
        }
      ]
    },
    {
      "cell_type": "code",
      "source": [
        "# Q18 Create a class House with attributes address and price. Create a derived class Mansion that adds an attribute number_of_rooms\n",
        "\n",
        "class House:\n",
        "    def __init__(self, address, price):\n",
        "        self.address = address\n",
        "        self.price = price\n",
        "\n",
        "    def get_info(self):\n",
        "        return f\"Address: {self.address}\\nPrice: ${self.price}\"\n",
        "\n",
        "# Derived class Mansion\n",
        "class Mansion(House):\n",
        "    def __init__(self, address, price, number_of_rooms):\n",
        "        super().__init__(address, price)\n",
        "        self.number_of_rooms = number_of_rooms\n",
        "\n",
        "    def get_info(self):\n",
        "        base_info = super().get_info()\n",
        "        return f\"{base_info}\\nNumber of Rooms: {self.number_of_rooms}\"\n",
        "\n",
        "# Creating instances of House and Mansion\n",
        "house = House(\"123 Elm Street\", 250000)\n",
        "mansion = Mansion(\"456 Oak Avenue\", 1500000, 10)\n",
        "\n",
        "# Displaying the information\n",
        "print(house.get_info())\n",
        "print(mansion.get_info())\n"
      ],
      "metadata": {
        "colab": {
          "base_uri": "https://localhost:8080/"
        },
        "id": "Q2eBQ-_tr2Ft",
        "outputId": "d33c7c84-952c-4e11-bbce-5d26b6ba4098"
      },
      "execution_count": 24,
      "outputs": [
        {
          "output_type": "stream",
          "name": "stdout",
          "text": [
            "Address: 123 Elm Street\n",
            "Price: $250000\n",
            "Address: 456 Oak Avenue\n",
            "Price: $1500000\n",
            "Number of Rooms: 10\n"
          ]
        }
      ]
    }
  ]
}